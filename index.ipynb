{
 "cells": [
  {
   "cell_type": "markdown",
   "metadata": {},
   "source": [
    "---\n",
    "title: Voice Emotion Classification\n",
    "author: Catie Baxter and Otis Milliken \n",
    "date: '2024-04-07'\n",
    "description: \"Final Project for CS0451\"\n",
    "format: html\n",
    "---"
   ]
  },
  {
   "cell_type": "markdown",
   "metadata": {},
   "source": [
    "Hello helo "
   ]
  },
  {
   "cell_type": "markdown",
   "metadata": {},
   "source": [
    "The files in our dataset were named using a specific naming structure by the original authors. Each file has a unique filename that act as identifiers for the characteristics of the audio file.\n",
    "\n",
    "There are 7 digits, divided by dashes (e.g. \"02-01-06-01-02-01-12.mp4\"). \n",
    "\n",
    "The first digit reflects the **modality**:\n",
    "    01 - full-AV\n",
    "    02 - video only\n",
    "    03 - audio-only\n",
    "\n",
    "The second digit is the vocal channel. We are only investigating the speech files so they will all be 01.\n",
    "\n",
    "The third digit is the **emotion** which will be our target variable.\n",
    "    01 - neutral\n",
    "    02 - calm\n",
    "    03 - happy\n",
    "    04 - sad\n",
    "    05 - angry\n",
    "    06 - fearful\n",
    "    07 - disgust\n",
    "    08 - surprised\n",
    "\n",
    "The fourth digit reflects the emotional intensity, which is 01 for normal and 02 for strong.\n",
    "\n",
    "The fifth digit reflects the **statement** in the file:\n",
    "    01 - \"Kids are talking by the door\"\n",
    "    02 - \"Dogs are sitting by the door\"\n",
    "\n",
    "The sixth digit indicates the repetition number of the study: 01 or 02.\n",
    "\n",
    "Finally the seventh digit is the actor that spoke in the recording, labelled 01 to 24. Odd numbers are male and even numbers are female. \n"
   ]
  },
  {
   "cell_type": "code",
   "execution_count": null,
   "metadata": {},
   "outputs": [],
   "source": [
    "import os\n",
    "# assign directory\n",
    "\n",
    "def getting_files(directory):\n",
    "    for filename in os.listdir(directory):\n",
    "        file = os.path.join(directory, filename)\n",
    "        if os.path.isfile(file):\n",
    "            print(file)"
   ]
  }
 ],
 "metadata": {
  "language_info": {
   "name": "python"
  }
 },
 "nbformat": 4,
 "nbformat_minor": 2
}
