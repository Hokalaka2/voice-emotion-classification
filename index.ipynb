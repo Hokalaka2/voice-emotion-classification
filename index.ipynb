{
 "cells": [
  {
   "cell_type": "markdown",
   "metadata": {},
   "source": [
    "---\n",
    "title: Voice Emotion Classification\n",
    "author: Catie Baxter and Otis Milliken \n",
    "date: '2024-04-07'\n",
    "description: \"Final Project for CS0451\"\n",
    "format: html\n",
    "---"
   ]
  },
  {
   "cell_type": "markdown",
   "metadata": {},
   "source": [
    "Hello helo "
   ]
  },
  {
   "cell_type": "code",
   "execution_count": null,
   "metadata": {},
   "outputs": [],
   "source": [
    "import os\n",
    "# assign directory\n",
    "\n",
    "def getting_files(directory):\n",
    "    for filename in os.listdir(directory):\n",
    "        file = os.path.join(directory, filename)\n",
    "        if os.path.isfile(file):\n",
    "            print(file)"
   ]
  }
 ],
 "metadata": {
  "language_info": {
   "name": "python"
  }
 },
 "nbformat": 4,
 "nbformat_minor": 2
}
